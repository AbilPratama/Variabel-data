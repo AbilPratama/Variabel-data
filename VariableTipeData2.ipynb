{
 "cells": [
  {
   "cell_type": "code",
   "execution_count": null,
   "id": "f1659072-cdac-4da2-bca3-5f81e2ebf29c",
   "metadata": {
    "tags": []
   },
   "outputs": [],
   "source": [
    "<h1>Variabel dan Tipe Data</h1><hr>\n",
    "Tipe Data pada Python adalah:\n",
    "<ol>\n",
    "    <li>Float - (float)</li>\n",
    "    <li>String - (str)</li>\n",
    "    <li>Boolean - (bool)</li>\n",
    "    <li>Integer - (int)</li>\n",
    "</ol><hr>\n",
    "Aturan penamaan variabel\n",
    "<ul>\n",
    "    <li>Tidak Boleh Menggunakan Spasi</li>\n",
    "    <li>Bersifat case sensitive=> A != a</li>\n",
    "    <li>Diawali underscore atau huruf</li>\n",
    "    <li>Terdiri dari huruf, angka, karakter _ (underscore)</li>\n",
    "    <li>Tidak boleh menggunakan reserved keyword</li>\n",
    "    \n",
    "</ul><hr>"
   ]
  },
  {
   "cell_type": "code",
   "execution_count": 2,
   "id": "d9db4e9e-c51a-4682-8629-ded70ab0bb7a",
   "metadata": {},
   "outputs": [
    {
     "name": "stdout",
     "output_type": "stream",
     "text": [
      "100\n",
      "50.6\n",
      "1\n",
      "True\n"
     ]
    }
   ],
   "source": [
    "data_integer = 100\n",
    "data_float = 50.6\n",
    "data_string = \"1\"\n",
    "data_boolean = True\n",
    "\n",
    "data_string\n",
    "print(data_integer)\n",
    "print(data_float)\n",
    "print(data_string)\n",
    "print(data_boolean)"
   ]
  },
  {
   "cell_type": "code",
   "execution_count": 3,
   "id": "ae9c1fa4-712f-455a-bf84-a68e85c81c29",
   "metadata": {},
   "outputs": [
    {
     "name": "stdout",
     "output_type": "stream",
     "text": [
      "<class 'int'>\n",
      "<class 'float'>\n",
      "<class 'str'>\n",
      "<class 'bool'>\n"
     ]
    }
   ],
   "source": [
    "print(type(data_integer))\n",
    "print(type(data_float))\n",
    "print(type(data_string))\n",
    "print(type(data_boolean))"
   ]
  },
  {
   "cell_type": "markdown",
   "id": "89a5eb45-5cb0-44ec-95ab-9c55dbaf7c3f",
   "metadata": {},
   "source": [
    "<h3>Konversi tipe data dari Integer ke (String, Float, Boolean)</h3>"
   ]
  },
  {
   "cell_type": "code",
   "execution_count": 6,
   "id": "e911e027-8ccc-44d4-a090-53bb8e8dbf54",
   "metadata": {},
   "outputs": [
    {
     "name": "stdin",
     "output_type": "stream",
     "text": [
      "Isikan bilangan 1:  2\n",
      "Isikan bilangan 2:  7\n"
     ]
    },
    {
     "name": "stdout",
     "output_type": "stream",
     "text": [
      "9\n"
     ]
    }
   ],
   "source": [
    "bil1 = input(\"Isikan bilangan 1: \")\n",
    "bil2 = input(\"Isikan bilangan 2: \")\n",
    "hasil = int(bil1) + int(bil2)\n",
    "print(hasil)"
   ]
  },
  {
   "cell_type": "code",
   "execution_count": 9,
   "id": "0474cbf4-feb2-4af7-a784-27ed5dc48bf2",
   "metadata": {},
   "outputs": [
    {
     "name": "stdout",
     "output_type": "stream",
     "text": [
      "1\n",
      "50\n",
      "1\n",
      "<class 'int'>\n",
      "<class 'int'>\n",
      "<class 'int'>\n"
     ]
    }
   ],
   "source": [
    "string_to_int = int(data_string)\n",
    "float_to_int = int(data_float)\n",
    "bool_to_int = int(data_boolean)\n",
    "\n",
    "print(string_to_int)\n",
    "print(float_to_int)\n",
    "print(bool_to_int)\n",
    "\n",
    "print (type(string_to_int))\n",
    "print (type(float_to_int))\n",
    "print (type(bool_to_int))"
   ]
  },
  {
   "cell_type": "code",
   "execution_count": 14,
   "id": "369a0154-4d42-4b3f-9c6f-e96c2eb51a28",
   "metadata": {},
   "outputs": [
    {
     "name": "stdout",
     "output_type": "stream",
     "text": [
      "1\n",
      "50.6\n",
      "True\n",
      "<class 'str'>\n",
      "<class 'str'>\n",
      "<class 'str'>\n"
     ]
    }
   ],
   "source": [
    "int_to_string = str(data_integer)\n",
    "float_to_string = str(data_float)\n",
    "bool_to_string = str(data_boolean)\n",
    "\n",
    "print(int_to_string)\n",
    "print(float_to_string)\n",
    "print(bool_to_string)\n",
    "\n",
    "print (type(int_to_string))\n",
    "print (type(float_to_string))\n",
    "print (type(bool_to_string))"
   ]
  },
  {
   "cell_type": "code",
   "execution_count": 16,
   "id": "14ece347-cfc5-4b90-86a0-27da4357f235",
   "metadata": {},
   "outputs": [
    {
     "name": "stdout",
     "output_type": "stream",
     "text": [
      "100.0\n",
      "1.0\n",
      "1.0\n",
      "<class 'float'>\n",
      "<class 'float'>\n",
      "<class 'float'>\n"
     ]
    }
   ],
   "source": [
    "int_to_float = float(data_integer)\n",
    "string_to_float = float(data_string)\n",
    "bool_to_float = float(data_boolean)\n",
    "\n",
    "print(int_to_float)\n",
    "print(string_to_float)\n",
    "print(bool_to_float)\n",
    "\n",
    "print (type(int_to_float))\n",
    "print (type(string_to_float))\n",
    "print (type(bool_to_float))"
   ]
  },
  {
   "cell_type": "code",
   "execution_count": 17,
   "id": "fa1bd0ae-8f6f-44e7-a7df-6bb03e9a9653",
   "metadata": {},
   "outputs": [
    {
     "name": "stdout",
     "output_type": "stream",
     "text": [
      "True\n",
      "True\n",
      "True\n",
      "<class 'bool'>\n",
      "<class 'bool'>\n",
      "<class 'bool'>\n"
     ]
    }
   ],
   "source": [
    "int_to_boolean = bool(data_integer)\n",
    "string_to_boolean = bool(data_string)\n",
    "float_to_boolean = bool(data_float)\n",
    "\n",
    "print(int_to_boolean)\n",
    "print(string_to_boolean)\n",
    "print(float_to_boolean)\n",
    "\n",
    "print (type(int_to_boolean))\n",
    "print (type(string_to_boolean))\n",
    "print (type(float_to_boolean))"
   ]
  }
 ],
 "metadata": {
  "kernelspec": {
   "display_name": "Python 3 (ipykernel)",
   "language": "python",
   "name": "python3"
  },
  "language_info": {
   "codemirror_mode": {
    "name": "ipython",
    "version": 3
   },
   "file_extension": ".py",
   "mimetype": "text/x-python",
   "name": "python",
   "nbconvert_exporter": "python",
   "pygments_lexer": "ipython3",
   "version": "3.9.12"
  }
 },
 "nbformat": 4,
 "nbformat_minor": 5
}
